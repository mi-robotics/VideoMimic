{
 "cells": [
  {
   "cell_type": "code",
   "execution_count": 1,
   "id": "05bdd53a",
   "metadata": {},
   "outputs": [],
   "source": [
    "import torch\n",
    "from torch import nn"
   ]
  },
  {
   "cell_type": "code",
   "execution_count": 4,
   "id": "ea186349",
   "metadata": {},
   "outputs": [
    {
     "name": "stdout",
     "output_type": "stream",
     "text": [
      "torch.Size([2, 4, 357])\n"
     ]
    }
   ],
   "source": [
    "x = torch.randn(2, 357)\n",
    "print(x.unsqueeze(1).repeat(1, 4, 1).shape)"
   ]
  },
  {
   "cell_type": "code",
   "execution_count": 3,
   "id": "c0377b7e",
   "metadata": {},
   "outputs": [
    {
     "name": "stderr",
     "output_type": "stream",
     "text": [
      "/home/milo/miniconda3/envs/video_mimic/lib/python3.11/site-packages/torch/nn/modules/transformer.py:392: UserWarning: enable_nested_tensor is True, but self.use_nested_tensor is False because encoder_layer.norm_first was True\n",
      "  warnings.warn(\n"
     ]
    }
   ],
   "source": [
    "encoder_layer = nn.TransformerEncoderLayer(\n",
    "            d_model=512,\n",
    "            nhead=4,\n",
    "            dim_feedforward=4*512,\n",
    "            dropout=0.1,\n",
    "            activation='gelu',\n",
    "            batch_first=True,\n",
    "            norm_first=True\n",
    "        )\n",
    "encoder = nn.TransformerEncoder(\n",
    "            encoder_layer=encoder_layer,\n",
    "            num_layers=4\n",
    "        )\n"
   ]
  },
  {
   "cell_type": "code",
   "execution_count": null,
   "id": "9597c1b6",
   "metadata": {},
   "outputs": [
    {
     "name": "stdout",
     "output_type": "stream",
     "text": [
      "\n",
      "layers\n",
      "layers.0\n",
      "layers.0.self_attn\n",
      "layers.0.self_attn.out_proj\n",
      "layers.0.linear1\n",
      "layers.0.dropout\n",
      "layers.0.linear2\n",
      "layers.0.norm1\n",
      "layers.0.norm2\n",
      "layers.0.dropout1\n",
      "layers.0.dropout2\n",
      "layers.1\n",
      "layers.1.self_attn\n",
      "layers.1.self_attn.out_proj\n",
      "layers.1.linear1\n",
      "layers.1.dropout\n",
      "layers.1.linear2\n",
      "layers.1.norm1\n",
      "layers.1.norm2\n",
      "layers.1.dropout1\n",
      "layers.1.dropout2\n",
      "layers.2\n",
      "layers.2.self_attn\n",
      "layers.2.self_attn.out_proj\n",
      "layers.2.linear1\n",
      "layers.2.dropout\n",
      "layers.2.linear2\n",
      "layers.2.norm1\n",
      "layers.2.norm2\n",
      "layers.2.dropout1\n",
      "layers.2.dropout2\n",
      "layers.3\n",
      "layers.3.self_attn\n",
      "layers.3.self_attn.out_proj\n",
      "layers.3.linear1\n",
      "layers.3.dropout\n",
      "layers.3.linear2\n",
      "layers.3.norm1\n",
      "layers.3.norm2\n",
      "layers.3.dropout1\n",
      "layers.3.dropout2\n"
     ]
    }
   ],
   "source": [
    "for name, module in encoder.named_modules():\n",
    "    print(name)\n"
   ]
  },
  {
   "cell_type": "code",
   "execution_count": 5,
   "id": "4bc01f72",
   "metadata": {},
   "outputs": [
    {
     "name": "stdout",
     "output_type": "stream",
     "text": [
      "MultiheadAttention module: layers.0.self_attn\n",
      "  q_proj_weight shape: torch.Size([512, 512])\n",
      "  k_proj_weight shape: torch.Size([512, 512])\n",
      "  v_proj_weight shape: torch.Size([512, 512])\n",
      "  in_proj_weight shape: torch.Size([1536, 512])\n",
      "  in_proj_bias shape: torch.Size([1536])\n",
      "  out_proj: NonDynamicallyQuantizableLinear(in_features=512, out_features=512, bias=True)\n",
      "\n",
      "MultiheadAttention module: layers.1.self_attn\n",
      "  q_proj_weight shape: torch.Size([512, 512])\n",
      "  k_proj_weight shape: torch.Size([512, 512])\n",
      "  v_proj_weight shape: torch.Size([512, 512])\n",
      "  in_proj_weight shape: torch.Size([1536, 512])\n",
      "  in_proj_bias shape: torch.Size([1536])\n",
      "  out_proj: NonDynamicallyQuantizableLinear(in_features=512, out_features=512, bias=True)\n",
      "\n",
      "MultiheadAttention module: layers.2.self_attn\n",
      "  q_proj_weight shape: torch.Size([512, 512])\n",
      "  k_proj_weight shape: torch.Size([512, 512])\n",
      "  v_proj_weight shape: torch.Size([512, 512])\n",
      "  in_proj_weight shape: torch.Size([1536, 512])\n",
      "  in_proj_bias shape: torch.Size([1536])\n",
      "  out_proj: NonDynamicallyQuantizableLinear(in_features=512, out_features=512, bias=True)\n",
      "\n",
      "MultiheadAttention module: layers.3.self_attn\n",
      "  q_proj_weight shape: torch.Size([512, 512])\n",
      "  k_proj_weight shape: torch.Size([512, 512])\n",
      "  v_proj_weight shape: torch.Size([512, 512])\n",
      "  in_proj_weight shape: torch.Size([1536, 512])\n",
      "  in_proj_bias shape: torch.Size([1536])\n",
      "  out_proj: NonDynamicallyQuantizableLinear(in_features=512, out_features=512, bias=True)\n",
      "\n",
      "--- layers.0 ---\n",
      "  MultiheadAttention: self_attn\n",
      "    in_proj_weight shape: torch.Size([1536, 512])\n",
      "    out_proj: NonDynamicallyQuantizableLinear(in_features=512, out_features=512, bias=True)\n",
      "--- layers.1 ---\n",
      "  MultiheadAttention: self_attn\n",
      "    in_proj_weight shape: torch.Size([1536, 512])\n",
      "    out_proj: NonDynamicallyQuantizableLinear(in_features=512, out_features=512, bias=True)\n",
      "--- layers.2 ---\n",
      "  MultiheadAttention: self_attn\n",
      "    in_proj_weight shape: torch.Size([1536, 512])\n",
      "    out_proj: NonDynamicallyQuantizableLinear(in_features=512, out_features=512, bias=True)\n",
      "--- layers.3 ---\n",
      "  MultiheadAttention: self_attn\n",
      "    in_proj_weight shape: torch.Size([1536, 512])\n",
      "    out_proj: NonDynamicallyQuantizableLinear(in_features=512, out_features=512, bias=True)\n"
     ]
    }
   ],
   "source": [
    "# Let's inspect where the q, k, v (query, key, value) projections are in the encoder modules.\n",
    "# In PyTorch's TransformerEncoderLayer, these are typically in the MultiheadAttention submodule.\n",
    "\n",
    "for name, module in encoder.named_modules():\n",
    "    if isinstance(module, nn.MultiheadAttention):\n",
    "        print(f\"MultiheadAttention module: {name}\")\n",
    "        print(\"  q_proj_weight shape:\", module.in_proj_weight[:module.embed_dim].shape)\n",
    "        print(\"  k_proj_weight shape:\", module.in_proj_weight[module.embed_dim:2*module.embed_dim].shape)\n",
    "        print(\"  v_proj_weight shape:\", module.in_proj_weight[2*module.embed_dim:].shape)\n",
    "        print(\"  in_proj_weight shape:\", module.in_proj_weight.shape)\n",
    "        print(\"  in_proj_bias shape:\", module.in_proj_bias.shape)\n",
    "        print(\"  out_proj:\", module.out_proj)\n",
    "        print()\n",
    "\n",
    "# You can also look for the submodules directly:\n",
    "for name, module in encoder.named_modules():\n",
    "    if isinstance(module, nn.TransformerEncoderLayer):\n",
    "        print(f\"--- {name} ---\")\n",
    "        for subname, submodule in module.named_modules():\n",
    "            if isinstance(submodule, nn.MultiheadAttention):\n",
    "                print(f\"  MultiheadAttention: {subname}\")\n",
    "                print(f\"    in_proj_weight shape: {submodule.in_proj_weight.shape}\")\n",
    "                print(f\"    out_proj: {submodule.out_proj}\")\n"
   ]
  },
  {
   "cell_type": "code",
   "execution_count": null,
   "id": "08adf6f9",
   "metadata": {},
   "outputs": [],
   "source": []
  }
 ],
 "metadata": {
  "kernelspec": {
   "display_name": "phc",
   "language": "python",
   "name": "python3"
  },
  "language_info": {
   "codemirror_mode": {
    "name": "ipython",
    "version": 3
   },
   "file_extension": ".py",
   "mimetype": "text/x-python",
   "name": "python",
   "nbconvert_exporter": "python",
   "pygments_lexer": "ipython3",
   "version": "3.8.20"
  }
 },
 "nbformat": 4,
 "nbformat_minor": 5
}
